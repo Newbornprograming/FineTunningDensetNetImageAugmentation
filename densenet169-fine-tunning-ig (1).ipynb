{
 "cells": [
  {
   "cell_type": "code",
   "execution_count": 1,
   "id": "1cd69ff7",
   "metadata": {
    "execution": {
     "iopub.execute_input": "2024-01-22T08:25:26.754174Z",
     "iopub.status.busy": "2024-01-22T08:25:26.753733Z",
     "iopub.status.idle": "2024-01-22T08:25:41.775671Z",
     "shell.execute_reply": "2024-01-22T08:25:41.774627Z"
    },
    "id": "Q9AbS5Trjwdj",
    "outputId": "e010c411-3d24-42b4-c52c-5c25736809eb",
    "papermill": {
     "duration": 15.033178,
     "end_time": "2024-01-22T08:25:41.778103",
     "exception": false,
     "start_time": "2024-01-22T08:25:26.744925",
     "status": "completed"
    },
    "tags": []
   },
   "outputs": [
    {
     "name": "stderr",
     "output_type": "stream",
     "text": [
      "/opt/conda/lib/python3.10/site-packages/scipy/__init__.py:146: UserWarning: A NumPy version >=1.16.5 and <1.23.0 is required for this version of SciPy (detected version 1.24.3\n",
      "  warnings.warn(f\"A NumPy version >={np_minversion} and <{np_maxversion}\"\n",
      "/tmp/ipykernel_26/909378672.py:7: DeprecationWarning: `import kerastuner` is deprecated, please use `import keras_tuner`.\n",
      "  from kerastuner.tuners import Hyperband\n"
     ]
    }
   ],
   "source": [
    "import matplotlib.pyplot as plt\n",
    "import numpy as np\n",
    "import tensorflow as tf\n",
    "import os\n",
    "import keras_tuner as kt\n",
    "import cv2\n",
    "from kerastuner.tuners import Hyperband\n",
    "\n",
    "import time\n",
    "from tensorflow import keras\n",
    "from sklearn.model_selection import train_test_split\n",
    "from tensorflow.keras import layers\n",
    "from tensorflow.python.keras.layers import Dense, Flatten\n",
    "from tensorflow.keras.models import Sequential\n",
    "from tensorflow.keras.optimizers import Adam\n",
    "from tensorflow.keras.layers import Conv2D, Flatten, Dense, MaxPool2D, BatchNormalization, GlobalAveragePooling2D,Dropout\n",
    "from tensorflow.keras.models import Model\n",
    "from tensorflow.keras.preprocessing import image\n",
    "from tensorflow.keras.applications.densenet import DenseNet121\n",
    "from tensorflow.keras.applications.densenet import DenseNet169\n",
    "from tensorflow.keras.preprocessing.image import ImageDataGenerator, load_img\n",
    "from tensorflow.keras.applications.densenet import preprocess_input as densePI\n",
    "from sklearn.metrics import classification_report\n",
    "\n",
    "\n",
    "from sklearn.metrics import classification_report, confusion_matrix \n",
    "from keras.callbacks import ModelCheckpoint, CSVLogger, EarlyStopping\n",
    "import seaborn as sns"
   ]
  },
  {
   "cell_type": "code",
   "execution_count": 2,
   "id": "b308ded2",
   "metadata": {
    "execution": {
     "iopub.execute_input": "2024-01-22T08:25:41.794492Z",
     "iopub.status.busy": "2024-01-22T08:25:41.793573Z",
     "iopub.status.idle": "2024-01-22T08:25:41.798231Z",
     "shell.execute_reply": "2024-01-22T08:25:41.797317Z"
    },
    "id": "hn_EGcMu1O9h",
    "papermill": {
     "duration": 0.014595,
     "end_time": "2024-01-22T08:25:41.800149",
     "exception": false,
     "start_time": "2024-01-22T08:25:41.785554",
     "status": "completed"
    },
    "tags": []
   },
   "outputs": [],
   "source": [
    "np.random.seed(0)\n",
    "tf.random.set_seed(0)"
   ]
  },
  {
   "cell_type": "code",
   "execution_count": 3,
   "id": "ed255b1a",
   "metadata": {
    "execution": {
     "iopub.execute_input": "2024-01-22T08:25:41.815172Z",
     "iopub.status.busy": "2024-01-22T08:25:41.814461Z",
     "iopub.status.idle": "2024-01-22T08:25:55.851429Z",
     "shell.execute_reply": "2024-01-22T08:25:55.850421Z"
    },
    "papermill": {
     "duration": 14.046959,
     "end_time": "2024-01-22T08:25:55.854019",
     "exception": false,
     "start_time": "2024-01-22T08:25:41.807060",
     "status": "completed"
    },
    "tags": []
   },
   "outputs": [
    {
     "name": "stdout",
     "output_type": "stream",
     "text": [
      "Collecting split-folders\r\n",
      "  Downloading split_folders-0.5.1-py3-none-any.whl (8.4 kB)\r\n",
      "Installing collected packages: split-folders\r\n",
      "Successfully installed split-folders-0.5.1\r\n"
     ]
    }
   ],
   "source": [
    "!pip install split-folders"
   ]
  },
  {
   "cell_type": "code",
   "execution_count": 4,
   "id": "a079a882",
   "metadata": {
    "execution": {
     "iopub.execute_input": "2024-01-22T08:25:55.870567Z",
     "iopub.status.busy": "2024-01-22T08:25:55.870202Z",
     "iopub.status.idle": "2024-01-22T08:26:08.421589Z",
     "shell.execute_reply": "2024-01-22T08:26:08.420317Z"
    },
    "papermill": {
     "duration": 12.562508,
     "end_time": "2024-01-22T08:26:08.424045",
     "exception": false,
     "start_time": "2024-01-22T08:25:55.861537",
     "status": "completed"
    },
    "tags": []
   },
   "outputs": [
    {
     "name": "stdout",
     "output_type": "stream",
     "text": [
      "Requirement already satisfied: prettytable in /opt/conda/lib/python3.10/site-packages (3.8.0)\r\n",
      "Requirement already satisfied: wcwidth in /opt/conda/lib/python3.10/site-packages (from prettytable) (0.2.6)\r\n",
      "Note: you may need to restart the kernel to use updated packages.\n"
     ]
    }
   ],
   "source": [
    "pip install prettytable"
   ]
  },
  {
   "cell_type": "code",
   "execution_count": 5,
   "id": "85ebf62d",
   "metadata": {
    "execution": {
     "iopub.execute_input": "2024-01-22T08:26:08.441907Z",
     "iopub.status.busy": "2024-01-22T08:26:08.440998Z",
     "iopub.status.idle": "2024-01-22T08:26:32.878012Z",
     "shell.execute_reply": "2024-01-22T08:26:32.876663Z"
    },
    "id": "sQQjUFbHlSR1",
    "papermill": {
     "duration": 24.448806,
     "end_time": "2024-01-22T08:26:32.880722",
     "exception": false,
     "start_time": "2024-01-22T08:26:08.431916",
     "status": "completed"
    },
    "tags": []
   },
   "outputs": [
    {
     "name": "stderr",
     "output_type": "stream",
     "text": [
      "Copying files: 374 files [00:24, 15.32 files/s]\n"
     ]
    }
   ],
   "source": [
    "# input_folder = '/content/drive/MyDrive/lymphoma'\n",
    "# output = '/content/drive/MyDrive/lymphoma test'\n",
    "\n",
    "folder_path = f\"run/\"\n",
    "os.makedirs(folder_path, exist_ok=True)\n",
    "\n",
    "# Folder dataset disimpan\n",
    "dataset_input = r\"/kaggle/input/lymphoma/lymphoma\"\n",
    "dataset_output = r\"/kaggle/working/run\"\n",
    "\n",
    "import splitfolders\n",
    "splitfolders.ratio(dataset_input, dataset_output, seed=42, ratio=(.7, .15, .15))"
   ]
  },
  {
   "cell_type": "code",
   "execution_count": 6,
   "id": "b3cf6c7d",
   "metadata": {
    "execution": {
     "iopub.execute_input": "2024-01-22T08:26:32.929359Z",
     "iopub.status.busy": "2024-01-22T08:26:32.928674Z",
     "iopub.status.idle": "2024-01-22T08:26:32.934235Z",
     "shell.execute_reply": "2024-01-22T08:26:32.933278Z"
    },
    "id": "A3VDZtm5sysn",
    "papermill": {
     "duration": 0.032516,
     "end_time": "2024-01-22T08:26:32.936425",
     "exception": false,
     "start_time": "2024-01-22T08:26:32.903909",
     "status": "completed"
    },
    "tags": []
   },
   "outputs": [],
   "source": [
    "img_height, img_width = 1388, 1040\n",
    "dimension = (img_height, img_width)\n",
    "# dimensiontemp = (244, 244)\n",
    "# batch_size = 32\n",
    "\n",
    "# train_data_dir = r\"/content/drive/MyDrive/lymphoma test/train\"\n",
    "# valid_data_dir = r\"/content/drive/MyDrive/lymphoma test/val\"\n",
    "# test_data_dir = r\"/content/drive/MyDrive/lymphoma test/test\"\n",
    "# Direktori data\n",
    "train_data_dir = r\"/kaggle/working/run/train\"\n",
    "valid_data_dir = r\"/kaggle/working/run/val\"\n",
    "test_data_dir = r\"/kaggle/working/run/test\""
   ]
  },
  {
   "cell_type": "markdown",
   "id": "378690cc",
   "metadata": {
    "id": "cqLtmzJQNOJ4",
    "papermill": {
     "duration": 0.023104,
     "end_time": "2024-01-22T08:26:32.983128",
     "exception": false,
     "start_time": "2024-01-22T08:26:32.960024",
     "status": "completed"
    },
    "tags": []
   },
   "source": [
    "ImageDataGenerator = untuk data augmentasi dan data preprocessing pada image dataset"
   ]
  },
  {
   "cell_type": "code",
   "execution_count": 7,
   "id": "d5c35ab4",
   "metadata": {
    "execution": {
     "iopub.execute_input": "2024-01-22T08:26:33.030340Z",
     "iopub.status.busy": "2024-01-22T08:26:33.029964Z",
     "iopub.status.idle": "2024-01-22T08:26:33.064925Z",
     "shell.execute_reply": "2024-01-22T08:26:33.063807Z"
    },
    "id": "ugjymsws-P1I",
    "outputId": "c011db04-a23c-4c20-feec-2f9220ee19e2",
    "papermill": {
     "duration": 0.061071,
     "end_time": "2024-01-22T08:26:33.067368",
     "exception": false,
     "start_time": "2024-01-22T08:26:33.006297",
     "status": "completed"
    },
    "tags": []
   },
   "outputs": [
    {
     "name": "stdout",
     "output_type": "stream",
     "text": [
      "Found 261 images belonging to 3 classes.\n",
      "Found 54 images belonging to 3 classes.\n",
      "Found 59 images belonging to 3 classes.\n"
     ]
    }
   ],
   "source": [
    "traindatagenD = ImageDataGenerator(\n",
    "    # rescale = 1.0/255,\n",
    "    preprocessing_function=densePI,\n",
    ")\n",
    "train_dataD = traindatagenD.flow_from_directory(\n",
    "    directory = train_data_dir,\n",
    "    target_size = dimension,\n",
    "    batch_size = 16\n",
    ")\n",
    "\n",
    "validdatagenD = ImageDataGenerator(\n",
    "    # rescale = 1.0/255,\n",
    "    preprocessing_function=densePI,\n",
    ")\n",
    "valid_dataD = validdatagenD.flow_from_directory(\n",
    "    directory = valid_data_dir,\n",
    "    target_size = dimension,\n",
    "    batch_size = 16,\n",
    "#     shuffle = False\n",
    ")\n",
    "testdatagenD = ImageDataGenerator(\n",
    "    # rescale = 1.0/255,\n",
    "    preprocessing_function=densePI,\n",
    ")\n",
    "test_dataD = testdatagenD.flow_from_directory(\n",
    "    directory = test_data_dir,\n",
    "    target_size = dimension,\n",
    "    batch_size = 16,\n",
    "    shuffle = False\n",
    ")"
   ]
  },
  {
   "cell_type": "code",
   "execution_count": 8,
   "id": "f7ecffb2",
   "metadata": {
    "execution": {
     "iopub.execute_input": "2024-01-22T08:26:33.116262Z",
     "iopub.status.busy": "2024-01-22T08:26:33.115308Z",
     "iopub.status.idle": "2024-01-22T08:26:33.985671Z",
     "shell.execute_reply": "2024-01-22T08:26:33.984759Z"
    },
    "id": "8qNj-zvVwHDA",
    "outputId": "dcf16c34-371a-44c6-9a0b-db861bd4d4cc",
    "papermill": {
     "duration": 0.896803,
     "end_time": "2024-01-22T08:26:33.987895",
     "exception": false,
     "start_time": "2024-01-22T08:26:33.091092",
     "status": "completed"
    },
    "tags": []
   },
   "outputs": [
    {
     "data": {
      "text/plain": [
       "(16, 1388, 1040, 3)"
      ]
     },
     "execution_count": 8,
     "metadata": {},
     "output_type": "execute_result"
    }
   ],
   "source": [
    "x,y = test_dataD.next()\n",
    "x.shape"
   ]
  },
  {
   "cell_type": "code",
   "execution_count": 9,
   "id": "5639f7c8",
   "metadata": {
    "execution": {
     "iopub.execute_input": "2024-01-22T08:26:34.037381Z",
     "iopub.status.busy": "2024-01-22T08:26:34.037015Z",
     "iopub.status.idle": "2024-01-22T09:09:36.823713Z",
     "shell.execute_reply": "2024-01-22T09:09:36.822599Z"
    },
    "id": "Db1BzZv8wVxb",
    "outputId": "a7eab453-cebb-43cc-b980-d3fd664e96bc",
    "papermill": {
     "duration": 2583.072008,
     "end_time": "2024-01-22T09:09:37.083891",
     "exception": false,
     "start_time": "2024-01-22T08:26:34.011883",
     "status": "completed"
    },
    "tags": []
   },
   "outputs": [
    {
     "name": "stdout",
     "output_type": "stream",
     "text": [
      "Downloading data from https://storage.googleapis.com/tensorflow/keras-applications/densenet/densenet169_weights_tf_dim_ordering_tf_kernels_notop.h5\n",
      "51877672/51877672 [==============================] - 0s 0us/step\n",
      "Epoch 1/100\n",
      "17/17 [==============================] - ETA: 0s - loss: 1.1102 - accuracy: 0.4253\n",
      "Epoch 1: val_loss improved from inf to 0.95265, saving model to /content/drive/MyDrive/model_checkpoint.h5\n"
     ]
    },
    {
     "name": "stderr",
     "output_type": "stream",
     "text": [
      "/opt/conda/lib/python3.10/site-packages/keras/src/engine/training.py:3000: UserWarning: You are saving your model as an HDF5 file via `model.save()`. This file format is considered legacy. We recommend using instead the native Keras format, e.g. `model.save('my_model.keras')`.\n",
      "  saving_api.save_model(\n"
     ]
    },
    {
     "name": "stdout",
     "output_type": "stream",
     "text": [
      "17/17 [==============================] - 54s 2s/step - loss: 1.1102 - accuracy: 0.4253 - val_loss: 0.9527 - val_accuracy: 0.5741\n",
      "Epoch 2/100\n",
      "17/17 [==============================] - ETA: 0s - loss: 0.9663 - accuracy: 0.5709\n",
      "Epoch 2: val_loss improved from 0.95265 to 0.84353, saving model to /content/drive/MyDrive/model_checkpoint.h5\n",
      "17/17 [==============================] - 25s 1s/step - loss: 0.9663 - accuracy: 0.5709 - val_loss: 0.8435 - val_accuracy: 0.5741\n",
      "Epoch 3/100\n",
      "17/17 [==============================] - ETA: 0s - loss: 0.8379 - accuracy: 0.6398\n",
      "Epoch 3: val_loss improved from 0.84353 to 0.76099, saving model to /content/drive/MyDrive/model_checkpoint.h5\n",
      "17/17 [==============================] - 25s 1s/step - loss: 0.8379 - accuracy: 0.6398 - val_loss: 0.7610 - val_accuracy: 0.6667\n",
      "Epoch 4/100\n",
      "17/17 [==============================] - ETA: 0s - loss: 0.8049 - accuracy: 0.6552\n",
      "Epoch 4: val_loss improved from 0.76099 to 0.69800, saving model to /content/drive/MyDrive/model_checkpoint.h5\n",
      "17/17 [==============================] - 26s 2s/step - loss: 0.8049 - accuracy: 0.6552 - val_loss: 0.6980 - val_accuracy: 0.7593\n",
      "Epoch 5/100\n",
      "17/17 [==============================] - ETA: 0s - loss: 0.7004 - accuracy: 0.7241\n",
      "Epoch 5: val_loss improved from 0.69800 to 0.65271, saving model to /content/drive/MyDrive/model_checkpoint.h5\n",
      "17/17 [==============================] - 26s 1s/step - loss: 0.7004 - accuracy: 0.7241 - val_loss: 0.6527 - val_accuracy: 0.7593\n",
      "Epoch 6/100\n",
      "17/17 [==============================] - ETA: 0s - loss: 0.6624 - accuracy: 0.7165\n",
      "Epoch 6: val_loss improved from 0.65271 to 0.59668, saving model to /content/drive/MyDrive/model_checkpoint.h5\n",
      "17/17 [==============================] - 26s 2s/step - loss: 0.6624 - accuracy: 0.7165 - val_loss: 0.5967 - val_accuracy: 0.8148\n",
      "Epoch 7/100\n",
      "17/17 [==============================] - ETA: 0s - loss: 0.6037 - accuracy: 0.7663\n",
      "Epoch 7: val_loss improved from 0.59668 to 0.58040, saving model to /content/drive/MyDrive/model_checkpoint.h5\n",
      "17/17 [==============================] - 26s 2s/step - loss: 0.6037 - accuracy: 0.7663 - val_loss: 0.5804 - val_accuracy: 0.7778\n",
      "Epoch 8/100\n",
      "17/17 [==============================] - ETA: 0s - loss: 0.5793 - accuracy: 0.7510\n",
      "Epoch 8: val_loss improved from 0.58040 to 0.52658, saving model to /content/drive/MyDrive/model_checkpoint.h5\n",
      "17/17 [==============================] - 26s 2s/step - loss: 0.5793 - accuracy: 0.7510 - val_loss: 0.5266 - val_accuracy: 0.8148\n",
      "Epoch 9/100\n",
      "17/17 [==============================] - ETA: 0s - loss: 0.5107 - accuracy: 0.8276\n",
      "Epoch 9: val_loss improved from 0.52658 to 0.47580, saving model to /content/drive/MyDrive/model_checkpoint.h5\n",
      "17/17 [==============================] - 26s 2s/step - loss: 0.5107 - accuracy: 0.8276 - val_loss: 0.4758 - val_accuracy: 0.8333\n",
      "Epoch 10/100\n",
      "17/17 [==============================] - ETA: 0s - loss: 0.4814 - accuracy: 0.8084\n",
      "Epoch 10: val_loss did not improve from 0.47580\n",
      "17/17 [==============================] - 25s 1s/step - loss: 0.4814 - accuracy: 0.8084 - val_loss: 0.5064 - val_accuracy: 0.8148\n",
      "Epoch 11/100\n",
      "17/17 [==============================] - ETA: 0s - loss: 0.4509 - accuracy: 0.8506\n",
      "Epoch 11: val_loss improved from 0.47580 to 0.43869, saving model to /content/drive/MyDrive/model_checkpoint.h5\n",
      "17/17 [==============================] - 26s 2s/step - loss: 0.4509 - accuracy: 0.8506 - val_loss: 0.4387 - val_accuracy: 0.8519\n",
      "Epoch 12/100\n",
      "17/17 [==============================] - ETA: 0s - loss: 0.3893 - accuracy: 0.9042\n",
      "Epoch 12: val_loss improved from 0.43869 to 0.40789, saving model to /content/drive/MyDrive/model_checkpoint.h5\n",
      "17/17 [==============================] - 26s 2s/step - loss: 0.3893 - accuracy: 0.9042 - val_loss: 0.4079 - val_accuracy: 0.8704\n",
      "Epoch 13/100\n",
      "17/17 [==============================] - ETA: 0s - loss: 0.3585 - accuracy: 0.9157\n",
      "Epoch 13: val_loss improved from 0.40789 to 0.37136, saving model to /content/drive/MyDrive/model_checkpoint.h5\n",
      "17/17 [==============================] - 27s 2s/step - loss: 0.3585 - accuracy: 0.9157 - val_loss: 0.3714 - val_accuracy: 0.8704\n",
      "Epoch 14/100\n",
      "17/17 [==============================] - ETA: 0s - loss: 0.3417 - accuracy: 0.9195\n",
      "Epoch 14: val_loss improved from 0.37136 to 0.34196, saving model to /content/drive/MyDrive/model_checkpoint.h5\n",
      "17/17 [==============================] - 26s 2s/step - loss: 0.3417 - accuracy: 0.9195 - val_loss: 0.3420 - val_accuracy: 0.9074\n",
      "Epoch 15/100\n",
      "17/17 [==============================] - ETA: 0s - loss: 0.3111 - accuracy: 0.9272\n",
      "Epoch 15: val_loss improved from 0.34196 to 0.32964, saving model to /content/drive/MyDrive/model_checkpoint.h5\n",
      "17/17 [==============================] - 27s 2s/step - loss: 0.3111 - accuracy: 0.9272 - val_loss: 0.3296 - val_accuracy: 0.8704\n",
      "Epoch 16/100\n",
      "17/17 [==============================] - ETA: 0s - loss: 0.2756 - accuracy: 0.9387\n",
      "Epoch 16: val_loss improved from 0.32964 to 0.30237, saving model to /content/drive/MyDrive/model_checkpoint.h5\n",
      "17/17 [==============================] - 27s 2s/step - loss: 0.2756 - accuracy: 0.9387 - val_loss: 0.3024 - val_accuracy: 0.8889\n",
      "Epoch 17/100\n",
      "17/17 [==============================] - ETA: 0s - loss: 0.2474 - accuracy: 0.9387\n",
      "Epoch 17: val_loss improved from 0.30237 to 0.28719, saving model to /content/drive/MyDrive/model_checkpoint.h5\n",
      "17/17 [==============================] - 27s 2s/step - loss: 0.2474 - accuracy: 0.9387 - val_loss: 0.2872 - val_accuracy: 0.9259\n",
      "Epoch 18/100\n",
      "17/17 [==============================] - ETA: 0s - loss: 0.2388 - accuracy: 0.9464\n",
      "Epoch 18: val_loss improved from 0.28719 to 0.27996, saving model to /content/drive/MyDrive/model_checkpoint.h5\n",
      "17/17 [==============================] - 27s 2s/step - loss: 0.2388 - accuracy: 0.9464 - val_loss: 0.2800 - val_accuracy: 0.9074\n",
      "Epoch 19/100\n",
      "17/17 [==============================] - ETA: 0s - loss: 0.2142 - accuracy: 0.9540\n",
      "Epoch 19: val_loss improved from 0.27996 to 0.27822, saving model to /content/drive/MyDrive/model_checkpoint.h5\n",
      "17/17 [==============================] - 27s 2s/step - loss: 0.2142 - accuracy: 0.9540 - val_loss: 0.2782 - val_accuracy: 0.9074\n",
      "Epoch 20/100\n",
      "17/17 [==============================] - ETA: 0s - loss: 0.2057 - accuracy: 0.9693\n",
      "Epoch 20: val_loss improved from 0.27822 to 0.25119, saving model to /content/drive/MyDrive/model_checkpoint.h5\n",
      "17/17 [==============================] - 27s 2s/step - loss: 0.2057 - accuracy: 0.9693 - val_loss: 0.2512 - val_accuracy: 0.9074\n",
      "Epoch 21/100\n",
      "17/17 [==============================] - ETA: 0s - loss: 0.2034 - accuracy: 0.9502\n",
      "Epoch 21: val_loss improved from 0.25119 to 0.24953, saving model to /content/drive/MyDrive/model_checkpoint.h5\n",
      "17/17 [==============================] - 27s 2s/step - loss: 0.2034 - accuracy: 0.9502 - val_loss: 0.2495 - val_accuracy: 0.9074\n",
      "Epoch 22/100\n",
      "17/17 [==============================] - ETA: 0s - loss: 0.1916 - accuracy: 0.9540\n",
      "Epoch 22: val_loss improved from 0.24953 to 0.23206, saving model to /content/drive/MyDrive/model_checkpoint.h5\n",
      "17/17 [==============================] - 27s 2s/step - loss: 0.1916 - accuracy: 0.9540 - val_loss: 0.2321 - val_accuracy: 0.9259\n",
      "Epoch 23/100\n",
      "17/17 [==============================] - ETA: 0s - loss: 0.1501 - accuracy: 0.9732\n",
      "Epoch 23: val_loss improved from 0.23206 to 0.23136, saving model to /content/drive/MyDrive/model_checkpoint.h5\n",
      "17/17 [==============================] - 27s 2s/step - loss: 0.1501 - accuracy: 0.9732 - val_loss: 0.2314 - val_accuracy: 0.9259\n",
      "Epoch 24/100\n",
      "17/17 [==============================] - ETA: 0s - loss: 0.1517 - accuracy: 0.9732\n",
      "Epoch 24: val_loss improved from 0.23136 to 0.21772, saving model to /content/drive/MyDrive/model_checkpoint.h5\n",
      "17/17 [==============================] - 27s 2s/step - loss: 0.1517 - accuracy: 0.9732 - val_loss: 0.2177 - val_accuracy: 0.9259\n",
      "Epoch 25/100\n",
      "17/17 [==============================] - ETA: 0s - loss: 0.1348 - accuracy: 0.9732\n",
      "Epoch 25: val_loss improved from 0.21772 to 0.21707, saving model to /content/drive/MyDrive/model_checkpoint.h5\n",
      "17/17 [==============================] - 27s 2s/step - loss: 0.1348 - accuracy: 0.9732 - val_loss: 0.2171 - val_accuracy: 0.9259\n",
      "Epoch 26/100\n",
      "17/17 [==============================] - ETA: 0s - loss: 0.1201 - accuracy: 0.9885\n",
      "Epoch 26: val_loss did not improve from 0.21707\n",
      "17/17 [==============================] - 25s 1s/step - loss: 0.1201 - accuracy: 0.9885 - val_loss: 0.2235 - val_accuracy: 0.9259\n",
      "Epoch 27/100\n",
      "17/17 [==============================] - ETA: 0s - loss: 0.1211 - accuracy: 0.9885\n",
      "Epoch 27: val_loss improved from 0.21707 to 0.18308, saving model to /content/drive/MyDrive/model_checkpoint.h5\n",
      "17/17 [==============================] - 27s 2s/step - loss: 0.1211 - accuracy: 0.9885 - val_loss: 0.1831 - val_accuracy: 0.9259\n",
      "Epoch 28/100\n",
      "17/17 [==============================] - ETA: 0s - loss: 0.1132 - accuracy: 0.9885\n",
      "Epoch 28: val_loss did not improve from 0.18308\n",
      "17/17 [==============================] - 26s 1s/step - loss: 0.1132 - accuracy: 0.9885 - val_loss: 0.1938 - val_accuracy: 0.9259\n",
      "Epoch 29/100\n",
      "17/17 [==============================] - ETA: 0s - loss: 0.0966 - accuracy: 0.9847\n",
      "Epoch 29: val_loss did not improve from 0.18308\n",
      "17/17 [==============================] - 25s 1s/step - loss: 0.0966 - accuracy: 0.9847 - val_loss: 0.1927 - val_accuracy: 0.9444\n",
      "Epoch 30/100\n",
      "17/17 [==============================] - ETA: 0s - loss: 0.1004 - accuracy: 0.9847\n",
      "Epoch 30: val_loss did not improve from 0.18308\n",
      "17/17 [==============================] - 26s 1s/step - loss: 0.1004 - accuracy: 0.9847 - val_loss: 0.2092 - val_accuracy: 0.9259\n",
      "Epoch 31/100\n",
      "17/17 [==============================] - ETA: 0s - loss: 0.0951 - accuracy: 0.9885\n",
      "Epoch 31: val_loss improved from 0.18308 to 0.17395, saving model to /content/drive/MyDrive/model_checkpoint.h5\n",
      "17/17 [==============================] - 27s 2s/step - loss: 0.0951 - accuracy: 0.9885 - val_loss: 0.1739 - val_accuracy: 0.9444\n",
      "Epoch 32/100\n",
      "17/17 [==============================] - ETA: 0s - loss: 0.0837 - accuracy: 0.9923\n",
      "Epoch 32: val_loss did not improve from 0.17395\n",
      "17/17 [==============================] - 25s 1s/step - loss: 0.0837 - accuracy: 0.9923 - val_loss: 0.2033 - val_accuracy: 0.8889\n",
      "Epoch 33/100\n",
      "17/17 [==============================] - ETA: 0s - loss: 0.0888 - accuracy: 0.9808\n",
      "Epoch 33: val_loss improved from 0.17395 to 0.16968, saving model to /content/drive/MyDrive/model_checkpoint.h5\n",
      "17/17 [==============================] - 27s 2s/step - loss: 0.0888 - accuracy: 0.9808 - val_loss: 0.1697 - val_accuracy: 0.9444\n",
      "Epoch 34/100\n",
      "17/17 [==============================] - ETA: 0s - loss: 0.0744 - accuracy: 0.9847\n",
      "Epoch 34: val_loss did not improve from 0.16968\n",
      "17/17 [==============================] - 26s 1s/step - loss: 0.0744 - accuracy: 0.9847 - val_loss: 0.1902 - val_accuracy: 0.9259\n",
      "Epoch 35/100\n",
      "17/17 [==============================] - ETA: 0s - loss: 0.0678 - accuracy: 0.9962\n",
      "Epoch 35: val_loss did not improve from 0.16968\n",
      "17/17 [==============================] - 26s 1s/step - loss: 0.0678 - accuracy: 0.9962 - val_loss: 0.1877 - val_accuracy: 0.9444\n",
      "Epoch 36/100\n",
      "17/17 [==============================] - ETA: 0s - loss: 0.0621 - accuracy: 0.9962\n",
      "Epoch 36: val_loss improved from 0.16968 to 0.16162, saving model to /content/drive/MyDrive/model_checkpoint.h5\n",
      "17/17 [==============================] - 27s 2s/step - loss: 0.0621 - accuracy: 0.9962 - val_loss: 0.1616 - val_accuracy: 0.9444\n",
      "Epoch 37/100\n",
      "17/17 [==============================] - ETA: 0s - loss: 0.0564 - accuracy: 0.9962\n",
      "Epoch 37: val_loss did not improve from 0.16162\n",
      "17/17 [==============================] - 25s 1s/step - loss: 0.0564 - accuracy: 0.9962 - val_loss: 0.1699 - val_accuracy: 0.9444\n",
      "Epoch 38/100\n",
      "17/17 [==============================] - ETA: 0s - loss: 0.0530 - accuracy: 0.9962\n",
      "Epoch 38: val_loss improved from 0.16162 to 0.15753, saving model to /content/drive/MyDrive/model_checkpoint.h5\n",
      "17/17 [==============================] - 27s 2s/step - loss: 0.0530 - accuracy: 0.9962 - val_loss: 0.1575 - val_accuracy: 0.9444\n",
      "Epoch 39/100\n",
      "17/17 [==============================] - ETA: 0s - loss: 0.0504 - accuracy: 0.9962\n",
      "Epoch 39: val_loss did not improve from 0.15753\n",
      "17/17 [==============================] - 25s 1s/step - loss: 0.0504 - accuracy: 0.9962 - val_loss: 0.1608 - val_accuracy: 0.9444\n",
      "Epoch 40/100\n",
      "17/17 [==============================] - ETA: 0s - loss: 0.0470 - accuracy: 0.9962\n",
      "Epoch 40: val_loss did not improve from 0.15753\n",
      "17/17 [==============================] - 26s 1s/step - loss: 0.0470 - accuracy: 0.9962 - val_loss: 0.1671 - val_accuracy: 0.9444\n",
      "Epoch 41/100\n",
      "17/17 [==============================] - ETA: 0s - loss: 0.0498 - accuracy: 0.9923\n",
      "Epoch 41: val_loss improved from 0.15753 to 0.14804, saving model to /content/drive/MyDrive/model_checkpoint.h5\n",
      "17/17 [==============================] - 27s 2s/step - loss: 0.0498 - accuracy: 0.9923 - val_loss: 0.1480 - val_accuracy: 0.9444\n",
      "Epoch 42/100\n",
      "17/17 [==============================] - ETA: 0s - loss: 0.0342 - accuracy: 1.0000\n",
      "Epoch 42: val_loss improved from 0.14804 to 0.14708, saving model to /content/drive/MyDrive/model_checkpoint.h5\n",
      "17/17 [==============================] - 27s 2s/step - loss: 0.0342 - accuracy: 1.0000 - val_loss: 0.1471 - val_accuracy: 0.9444\n",
      "Epoch 43/100\n",
      "17/17 [==============================] - ETA: 0s - loss: 0.0420 - accuracy: 0.9962\n",
      "Epoch 43: val_loss did not improve from 0.14708\n",
      "17/17 [==============================] - 25s 1s/step - loss: 0.0420 - accuracy: 0.9962 - val_loss: 0.1550 - val_accuracy: 0.9444\n",
      "Epoch 44/100\n",
      "17/17 [==============================] - ETA: 0s - loss: 0.0420 - accuracy: 0.9962\n",
      "Epoch 44: val_loss did not improve from 0.14708\n",
      "17/17 [==============================] - 25s 1s/step - loss: 0.0420 - accuracy: 0.9962 - val_loss: 0.1539 - val_accuracy: 0.9444\n",
      "Epoch 45/100\n",
      "17/17 [==============================] - ETA: 0s - loss: 0.0386 - accuracy: 0.9885\n",
      "Epoch 45: val_loss did not improve from 0.14708\n",
      "17/17 [==============================] - 24s 1s/step - loss: 0.0386 - accuracy: 0.9885 - val_loss: 0.1477 - val_accuracy: 0.9630\n",
      "Epoch 46/100\n",
      "17/17 [==============================] - ETA: 0s - loss: 0.0357 - accuracy: 0.9923\n",
      "Epoch 46: val_loss did not improve from 0.14708\n",
      "17/17 [==============================] - 25s 1s/step - loss: 0.0357 - accuracy: 0.9923 - val_loss: 0.1501 - val_accuracy: 0.9444\n",
      "Epoch 47/100\n",
      "17/17 [==============================] - ETA: 0s - loss: 0.0331 - accuracy: 1.0000\n",
      "Epoch 47: val_loss did not improve from 0.14708\n",
      "17/17 [==============================] - 25s 1s/step - loss: 0.0331 - accuracy: 1.0000 - val_loss: 0.1483 - val_accuracy: 0.9444\n",
      "Epoch 48/100\n",
      "17/17 [==============================] - ETA: 0s - loss: 0.0334 - accuracy: 0.9962\n",
      "Epoch 48: val_loss did not improve from 0.14708\n",
      "17/17 [==============================] - 25s 1s/step - loss: 0.0334 - accuracy: 0.9962 - val_loss: 0.1516 - val_accuracy: 0.9444\n",
      "Epoch 49/100\n",
      "17/17 [==============================] - ETA: 0s - loss: 0.0267 - accuracy: 1.0000\n",
      "Epoch 49: val_loss did not improve from 0.14708\n",
      "17/17 [==============================] - 24s 1s/step - loss: 0.0267 - accuracy: 1.0000 - val_loss: 0.1524 - val_accuracy: 0.9444\n",
      "Epoch 50/100\n",
      "17/17 [==============================] - ETA: 0s - loss: 0.0339 - accuracy: 0.9962\n",
      "Epoch 50: val_loss improved from 0.14708 to 0.14599, saving model to /content/drive/MyDrive/model_checkpoint.h5\n",
      "17/17 [==============================] - 26s 2s/step - loss: 0.0339 - accuracy: 0.9962 - val_loss: 0.1460 - val_accuracy: 0.9259\n",
      "Epoch 51/100\n",
      "17/17 [==============================] - ETA: 0s - loss: 0.0297 - accuracy: 1.0000\n",
      "Epoch 51: val_loss did not improve from 0.14599\n",
      "17/17 [==============================] - 25s 1s/step - loss: 0.0297 - accuracy: 1.0000 - val_loss: 0.1744 - val_accuracy: 0.9444\n",
      "Epoch 52/100\n",
      "17/17 [==============================] - ETA: 0s - loss: 0.0264 - accuracy: 1.0000\n",
      "Epoch 52: val_loss did not improve from 0.14599\n",
      "17/17 [==============================] - 25s 1s/step - loss: 0.0264 - accuracy: 1.0000 - val_loss: 0.1712 - val_accuracy: 0.9630\n",
      "Epoch 53/100\n",
      "17/17 [==============================] - ETA: 0s - loss: 0.0247 - accuracy: 1.0000\n",
      "Epoch 53: val_loss did not improve from 0.14599\n",
      "17/17 [==============================] - 25s 1s/step - loss: 0.0247 - accuracy: 1.0000 - val_loss: 0.1479 - val_accuracy: 0.9630\n",
      "Epoch 54/100\n",
      "17/17 [==============================] - ETA: 0s - loss: 0.0213 - accuracy: 1.0000\n",
      "Epoch 54: val_loss did not improve from 0.14599\n",
      "17/17 [==============================] - 25s 1s/step - loss: 0.0213 - accuracy: 1.0000 - val_loss: 0.1595 - val_accuracy: 0.9444\n",
      "Epoch 55/100\n",
      "17/17 [==============================] - ETA: 0s - loss: 0.0239 - accuracy: 1.0000\n",
      "Epoch 55: val_loss did not improve from 0.14599\n",
      "17/17 [==============================] - 25s 1s/step - loss: 0.0239 - accuracy: 1.0000 - val_loss: 0.1499 - val_accuracy: 0.9444\n",
      "Epoch 56/100\n",
      "17/17 [==============================] - ETA: 0s - loss: 0.0192 - accuracy: 1.0000\n",
      "Epoch 56: val_loss did not improve from 0.14599\n",
      "17/17 [==============================] - 25s 1s/step - loss: 0.0192 - accuracy: 1.0000 - val_loss: 0.1591 - val_accuracy: 0.9444\n",
      "Epoch 57/100\n",
      "17/17 [==============================] - ETA: 0s - loss: 0.0232 - accuracy: 1.0000\n",
      "Epoch 57: val_loss did not improve from 0.14599\n",
      "17/17 [==============================] - 25s 1s/step - loss: 0.0232 - accuracy: 1.0000 - val_loss: 0.1631 - val_accuracy: 0.9074\n",
      "Epoch 58/100\n",
      "17/17 [==============================] - ETA: 0s - loss: 0.0176 - accuracy: 1.0000\n",
      "Epoch 58: val_loss did not improve from 0.14599\n",
      "17/17 [==============================] - 25s 1s/step - loss: 0.0176 - accuracy: 1.0000 - val_loss: 0.1514 - val_accuracy: 0.9630\n",
      "Epoch 59/100\n",
      "17/17 [==============================] - ETA: 0s - loss: 0.0148 - accuracy: 1.0000\n",
      "Epoch 59: val_loss did not improve from 0.14599\n",
      "17/17 [==============================] - 25s 1s/step - loss: 0.0148 - accuracy: 1.0000 - val_loss: 0.1510 - val_accuracy: 0.9630\n",
      "Epoch 60/100\n",
      "17/17 [==============================] - ETA: 0s - loss: 0.0170 - accuracy: 1.0000\n",
      "Epoch 60: val_loss improved from 0.14599 to 0.14292, saving model to /content/drive/MyDrive/model_checkpoint.h5\n",
      "17/17 [==============================] - 26s 2s/step - loss: 0.0170 - accuracy: 1.0000 - val_loss: 0.1429 - val_accuracy: 0.9630\n",
      "Epoch 61/100\n",
      "17/17 [==============================] - ETA: 0s - loss: 0.0155 - accuracy: 1.0000\n",
      "Epoch 61: val_loss did not improve from 0.14292\n",
      "17/17 [==============================] - 25s 1s/step - loss: 0.0155 - accuracy: 1.0000 - val_loss: 0.1653 - val_accuracy: 0.9259\n",
      "Epoch 62/100\n",
      "17/17 [==============================] - ETA: 0s - loss: 0.0193 - accuracy: 1.0000\n",
      "Epoch 62: val_loss did not improve from 0.14292\n",
      "17/17 [==============================] - 25s 1s/step - loss: 0.0193 - accuracy: 1.0000 - val_loss: 0.1457 - val_accuracy: 0.9630\n",
      "Epoch 63/100\n",
      "17/17 [==============================] - ETA: 0s - loss: 0.0176 - accuracy: 0.9962\n",
      "Epoch 63: val_loss improved from 0.14292 to 0.13637, saving model to /content/drive/MyDrive/model_checkpoint.h5\n",
      "17/17 [==============================] - 26s 2s/step - loss: 0.0176 - accuracy: 0.9962 - val_loss: 0.1364 - val_accuracy: 0.9630\n",
      "Epoch 64/100\n",
      "17/17 [==============================] - ETA: 0s - loss: 0.0153 - accuracy: 1.0000\n",
      "Epoch 64: val_loss did not improve from 0.13637\n",
      "17/17 [==============================] - 25s 1s/step - loss: 0.0153 - accuracy: 1.0000 - val_loss: 0.1504 - val_accuracy: 0.9630\n",
      "Epoch 65/100\n",
      "17/17 [==============================] - ETA: 0s - loss: 0.0134 - accuracy: 1.0000\n",
      "Epoch 65: val_loss did not improve from 0.13637\n",
      "17/17 [==============================] - 24s 1s/step - loss: 0.0134 - accuracy: 1.0000 - val_loss: 0.1498 - val_accuracy: 0.9444\n",
      "Epoch 66/100\n",
      "17/17 [==============================] - ETA: 0s - loss: 0.0169 - accuracy: 1.0000\n",
      "Epoch 66: val_loss did not improve from 0.13637\n",
      "17/17 [==============================] - 25s 1s/step - loss: 0.0169 - accuracy: 1.0000 - val_loss: 0.1685 - val_accuracy: 0.9630\n",
      "Epoch 67/100\n",
      "17/17 [==============================] - ETA: 0s - loss: 0.0104 - accuracy: 1.0000\n",
      "Epoch 67: val_loss did not improve from 0.13637\n",
      "17/17 [==============================] - 25s 2s/step - loss: 0.0104 - accuracy: 1.0000 - val_loss: 0.1444 - val_accuracy: 0.9630\n",
      "Epoch 68/100\n",
      "17/17 [==============================] - ETA: 0s - loss: 0.0127 - accuracy: 1.0000\n",
      "Epoch 68: val_loss did not improve from 0.13637\n",
      "17/17 [==============================] - 25s 2s/step - loss: 0.0127 - accuracy: 1.0000 - val_loss: 0.1691 - val_accuracy: 0.9630\n",
      "Epoch 69/100\n",
      "17/17 [==============================] - ETA: 0s - loss: 0.0145 - accuracy: 0.9962\n",
      "Epoch 69: val_loss did not improve from 0.13637\n",
      "17/17 [==============================] - 25s 1s/step - loss: 0.0145 - accuracy: 0.9962 - val_loss: 0.1398 - val_accuracy: 0.9630\n",
      "Epoch 70/100\n",
      "17/17 [==============================] - ETA: 0s - loss: 0.0146 - accuracy: 1.0000\n",
      "Epoch 70: val_loss did not improve from 0.13637\n",
      "17/17 [==============================] - 25s 1s/step - loss: 0.0146 - accuracy: 1.0000 - val_loss: 0.1878 - val_accuracy: 0.9444\n",
      "Epoch 71/100\n",
      "17/17 [==============================] - ETA: 0s - loss: 0.0112 - accuracy: 1.0000\n",
      "Epoch 71: val_loss did not improve from 0.13637\n",
      "17/17 [==============================] - 25s 1s/step - loss: 0.0112 - accuracy: 1.0000 - val_loss: 0.1417 - val_accuracy: 0.9630\n",
      "Epoch 72/100\n",
      "17/17 [==============================] - ETA: 0s - loss: 0.0106 - accuracy: 1.0000\n",
      "Epoch 72: val_loss did not improve from 0.13637\n",
      "17/17 [==============================] - 25s 1s/step - loss: 0.0106 - accuracy: 1.0000 - val_loss: 0.1540 - val_accuracy: 0.9630\n",
      "Epoch 73/100\n",
      "17/17 [==============================] - ETA: 0s - loss: 0.0104 - accuracy: 1.0000\n",
      "Epoch 73: val_loss did not improve from 0.13637\n",
      "17/17 [==============================] - 24s 1s/step - loss: 0.0104 - accuracy: 1.0000 - val_loss: 0.1610 - val_accuracy: 0.9630\n",
      "Epoch 74/100\n",
      "17/17 [==============================] - ETA: 0s - loss: 0.0106 - accuracy: 1.0000\n",
      "Epoch 74: val_loss did not improve from 0.13637\n",
      "17/17 [==============================] - 25s 1s/step - loss: 0.0106 - accuracy: 1.0000 - val_loss: 0.1494 - val_accuracy: 0.9444\n",
      "Epoch 75/100\n",
      "17/17 [==============================] - ETA: 0s - loss: 0.0083 - accuracy: 1.0000\n",
      "Epoch 75: val_loss did not improve from 0.13637\n",
      "17/17 [==============================] - 25s 1s/step - loss: 0.0083 - accuracy: 1.0000 - val_loss: 0.1398 - val_accuracy: 0.9630\n",
      "Epoch 76/100\n",
      "17/17 [==============================] - ETA: 0s - loss: 0.0091 - accuracy: 1.0000\n",
      "Epoch 76: val_loss did not improve from 0.13637\n",
      "17/17 [==============================] - 25s 1s/step - loss: 0.0091 - accuracy: 1.0000 - val_loss: 0.1640 - val_accuracy: 0.9444\n",
      "Epoch 77/100\n",
      "17/17 [==============================] - ETA: 0s - loss: 0.0085 - accuracy: 1.0000\n",
      "Epoch 77: val_loss did not improve from 0.13637\n",
      "17/17 [==============================] - 25s 1s/step - loss: 0.0085 - accuracy: 1.0000 - val_loss: 0.1559 - val_accuracy: 0.9630\n",
      "Epoch 78/100\n",
      "17/17 [==============================] - ETA: 0s - loss: 0.0081 - accuracy: 1.0000\n",
      "Epoch 78: val_loss did not improve from 0.13637\n",
      "17/17 [==============================] - 25s 1s/step - loss: 0.0081 - accuracy: 1.0000 - val_loss: 0.1528 - val_accuracy: 0.9630\n",
      "Epoch 79/100\n",
      "17/17 [==============================] - ETA: 0s - loss: 0.0075 - accuracy: 1.0000\n",
      "Epoch 79: val_loss did not improve from 0.13637\n",
      "17/17 [==============================] - 24s 1s/step - loss: 0.0075 - accuracy: 1.0000 - val_loss: 0.1567 - val_accuracy: 0.9444\n",
      "Epoch 80/100\n",
      "17/17 [==============================] - ETA: 0s - loss: 0.0072 - accuracy: 1.0000\n",
      "Epoch 80: val_loss did not improve from 0.13637\n",
      "17/17 [==============================] - 25s 1s/step - loss: 0.0072 - accuracy: 1.0000 - val_loss: 0.1655 - val_accuracy: 0.9444\n",
      "Epoch 81/100\n",
      "17/17 [==============================] - ETA: 0s - loss: 0.0078 - accuracy: 1.0000\n",
      "Epoch 81: val_loss did not improve from 0.13637\n",
      "17/17 [==============================] - 25s 1s/step - loss: 0.0078 - accuracy: 1.0000 - val_loss: 0.1544 - val_accuracy: 0.9630\n",
      "Epoch 82/100\n",
      "17/17 [==============================] - ETA: 0s - loss: 0.0060 - accuracy: 1.0000\n",
      "Epoch 82: val_loss did not improve from 0.13637\n",
      "17/17 [==============================] - 25s 1s/step - loss: 0.0060 - accuracy: 1.0000 - val_loss: 0.1481 - val_accuracy: 0.9630\n",
      "Epoch 83/100\n",
      "17/17 [==============================] - ETA: 0s - loss: 0.0062 - accuracy: 1.0000\n",
      "Epoch 83: val_loss did not improve from 0.13637\n",
      "17/17 [==============================] - 25s 1s/step - loss: 0.0062 - accuracy: 1.0000 - val_loss: 0.1509 - val_accuracy: 0.9630\n",
      "Epoch 84/100\n",
      "17/17 [==============================] - ETA: 0s - loss: 0.0066 - accuracy: 1.0000\n",
      "Epoch 84: val_loss did not improve from 0.13637\n",
      "17/17 [==============================] - 25s 1s/step - loss: 0.0066 - accuracy: 1.0000 - val_loss: 0.1648 - val_accuracy: 0.9630\n",
      "Epoch 85/100\n",
      "17/17 [==============================] - ETA: 0s - loss: 0.0062 - accuracy: 1.0000\n",
      "Epoch 85: val_loss did not improve from 0.13637\n",
      "17/17 [==============================] - 24s 1s/step - loss: 0.0062 - accuracy: 1.0000 - val_loss: 0.1616 - val_accuracy: 0.9630\n",
      "Epoch 86/100\n",
      "17/17 [==============================] - ETA: 0s - loss: 0.0085 - accuracy: 0.9962\n",
      "Epoch 86: val_loss did not improve from 0.13637\n",
      "17/17 [==============================] - 25s 1s/step - loss: 0.0085 - accuracy: 0.9962 - val_loss: 0.1930 - val_accuracy: 0.9630\n",
      "Epoch 87/100\n",
      "17/17 [==============================] - ETA: 0s - loss: 0.0087 - accuracy: 1.0000\n",
      "Epoch 87: val_loss did not improve from 0.13637\n",
      "17/17 [==============================] - 25s 1s/step - loss: 0.0087 - accuracy: 1.0000 - val_loss: 0.1815 - val_accuracy: 0.9444\n",
      "Epoch 88/100\n",
      "17/17 [==============================] - ETA: 0s - loss: 0.0068 - accuracy: 1.0000\n",
      "Epoch 88: val_loss did not improve from 0.13637\n",
      "17/17 [==============================] - 25s 1s/step - loss: 0.0068 - accuracy: 1.0000 - val_loss: 0.1625 - val_accuracy: 0.9259\n",
      "Epoch 89/100\n",
      "17/17 [==============================] - ETA: 0s - loss: 0.0057 - accuracy: 1.0000\n",
      "Epoch 89: val_loss did not improve from 0.13637\n",
      "17/17 [==============================] - 25s 1s/step - loss: 0.0057 - accuracy: 1.0000 - val_loss: 0.1663 - val_accuracy: 0.9630\n",
      "Epoch 90/100\n",
      "17/17 [==============================] - ETA: 0s - loss: 0.0048 - accuracy: 1.0000\n",
      "Epoch 90: val_loss did not improve from 0.13637\n",
      "17/17 [==============================] - 24s 1s/step - loss: 0.0048 - accuracy: 1.0000 - val_loss: 0.1611 - val_accuracy: 0.9630\n",
      "Epoch 91/100\n",
      "17/17 [==============================] - ETA: 0s - loss: 0.0050 - accuracy: 1.0000\n",
      "Epoch 91: val_loss did not improve from 0.13637\n",
      "17/17 [==============================] - 25s 1s/step - loss: 0.0050 - accuracy: 1.0000 - val_loss: 0.1678 - val_accuracy: 0.9630\n",
      "Epoch 92/100\n",
      "17/17 [==============================] - ETA: 0s - loss: 0.0055 - accuracy: 1.0000\n",
      "Epoch 92: val_loss did not improve from 0.13637\n",
      "17/17 [==============================] - 25s 1s/step - loss: 0.0055 - accuracy: 1.0000 - val_loss: 0.1473 - val_accuracy: 0.9259\n",
      "Epoch 93/100\n",
      "17/17 [==============================] - ETA: 0s - loss: 0.0060 - accuracy: 1.0000\n",
      "Epoch 93: val_loss did not improve from 0.13637\n",
      "17/17 [==============================] - 25s 1s/step - loss: 0.0060 - accuracy: 1.0000 - val_loss: 0.1626 - val_accuracy: 0.9630\n",
      "Epoch 94/100\n",
      "17/17 [==============================] - ETA: 0s - loss: 0.0040 - accuracy: 1.0000\n",
      "Epoch 94: val_loss did not improve from 0.13637\n",
      "17/17 [==============================] - 25s 1s/step - loss: 0.0040 - accuracy: 1.0000 - val_loss: 0.1712 - val_accuracy: 0.9444\n",
      "Epoch 95/100\n",
      "17/17 [==============================] - ETA: 0s - loss: 0.0042 - accuracy: 1.0000\n",
      "Epoch 95: val_loss did not improve from 0.13637\n",
      "17/17 [==============================] - 25s 1s/step - loss: 0.0042 - accuracy: 1.0000 - val_loss: 0.1668 - val_accuracy: 0.9630\n",
      "Epoch 96/100\n",
      "17/17 [==============================] - ETA: 0s - loss: 0.0043 - accuracy: 1.0000\n",
      "Epoch 96: val_loss did not improve from 0.13637\n",
      "17/17 [==============================] - 25s 1s/step - loss: 0.0043 - accuracy: 1.0000 - val_loss: 0.1576 - val_accuracy: 0.9630\n",
      "Epoch 97/100\n",
      "17/17 [==============================] - ETA: 0s - loss: 0.0051 - accuracy: 1.0000\n",
      "Epoch 97: val_loss did not improve from 0.13637\n",
      "17/17 [==============================] - 24s 1s/step - loss: 0.0051 - accuracy: 1.0000 - val_loss: 0.1616 - val_accuracy: 0.9630\n",
      "Epoch 98/100\n",
      "17/17 [==============================] - ETA: 0s - loss: 0.0039 - accuracy: 1.0000\n",
      "Epoch 98: val_loss did not improve from 0.13637\n",
      "17/17 [==============================] - 25s 1s/step - loss: 0.0039 - accuracy: 1.0000 - val_loss: 0.1921 - val_accuracy: 0.9444\n",
      "Epoch 99/100\n",
      "17/17 [==============================] - ETA: 0s - loss: 0.0035 - accuracy: 1.0000\n",
      "Epoch 99: val_loss did not improve from 0.13637\n",
      "17/17 [==============================] - 25s 1s/step - loss: 0.0035 - accuracy: 1.0000 - val_loss: 0.1733 - val_accuracy: 0.9630\n",
      "Epoch 100/100\n",
      "17/17 [==============================] - ETA: 0s - loss: 0.0037 - accuracy: 1.0000\n",
      "Epoch 100: val_loss did not improve from 0.13637\n",
      "17/17 [==============================] - 25s 1s/step - loss: 0.0037 - accuracy: 1.0000 - val_loss: 0.1726 - val_accuracy: 0.9444\n",
      "waktu :  2575.8019444942474\n",
      "waktu :  42.93003240823746\n",
      "waktu :  55.80194449424744\n"
     ]
    }
   ],
   "source": [
    "from tensorflow.keras.optimizers import Adamax\n",
    "base_model = DenseNet169(include_top=False, weights= 'imagenet')\n",
    "x = base_model.output\n",
    "x = GlobalAveragePooling2D()(x)\n",
    "x = Dense(512, activation='relu')(x)\n",
    "x = tf.keras.layers.Flatten()(x)\n",
    "x = Dense(1024, activation='relu')(x)\n",
    "x = Dropout(0.5)(x)\n",
    "predictions = Dense(train_dataD.num_classes, activation='softmax')(x)\n",
    "model = Model(inputs = base_model.input, outputs=predictions)\n",
    "\n",
    "for layer in base_model.layers:\n",
    "  layer.trainable = False\n",
    "\n",
    "callbacks = [\n",
    "    tf.keras.callbacks.ModelCheckpoint(filepath='/content/drive/MyDrive/model_checkpoint.h5', save_best_only=True, verbose=1),\n",
    "#     tf.keras.callbacks.EarlyStopping(patience=3, monitor='val_loss', verbose=1),\n",
    "    tf.keras.callbacks.TensorBoard(log_dir='logs')\n",
    "]\n",
    "\n",
    "# model_learning_rate = model.Choice('learning_rate',values=[1e-2, 1e-3, 1e-4])\n",
    "model_learning_rate = [1e-2, 1e-3, 1e-4]\n",
    "\n",
    "model.compile(optimizer=keras.optimizers.Adam(learning_rate=0.0001),loss='categorical_crossentropy', metrics = ['accuracy'])\n",
    "start_time = time.time()\n",
    "\n",
    "history = model.fit(train_dataD, epochs=100,validation_data=valid_dataD, verbose = 1,callbacks=callbacks)\n",
    "end_time = time.time()\n",
    "total = end_time-start_time\n",
    "print('waktu : ',total)\n",
    "print('waktu : ',total/60)\n",
    "print('waktu : ',total%60)"
   ]
  },
  {
   "cell_type": "markdown",
   "id": "fe75707c",
   "metadata": {
    "id": "dl2W1edq8CyP",
    "papermill": {
     "duration": 0.189785,
     "end_time": "2024-01-22T09:09:37.471968",
     "exception": false,
     "start_time": "2024-01-22T09:09:37.282183",
     "status": "completed"
    },
    "tags": []
   },
   "source": [
    "# **Dense Net169**"
   ]
  },
  {
   "cell_type": "code",
   "execution_count": 10,
   "id": "21f75169",
   "metadata": {
    "execution": {
     "iopub.execute_input": "2024-01-22T09:09:37.840458Z",
     "iopub.status.busy": "2024-01-22T09:09:37.840105Z",
     "iopub.status.idle": "2024-01-22T09:09:37.844998Z",
     "shell.execute_reply": "2024-01-22T09:09:37.843995Z"
    },
    "id": "DplEnXT89acr",
    "papermill": {
     "duration": 0.190869,
     "end_time": "2024-01-22T09:09:37.847147",
     "exception": false,
     "start_time": "2024-01-22T09:09:37.656278",
     "status": "completed"
    },
    "tags": []
   },
   "outputs": [],
   "source": [
    "# def build_model(hp):\n",
    "#     base_model = DenseNet169(weights='imagenet', include_top=False)\n",
    "\n",
    "#     x = base_model.output\n",
    "#     x = GlobalAveragePooling2D()(x)\n",
    "#     x = Dense(units=hp.Int('dense_units', min_value=64, max_value=512, step=32, default=128), activation='relu')(x)\n",
    "#     output = Dense(train_dataD.num_classes, activation='softmax')(x)\n",
    "#     model = Model(inputs=base_model.input, outputs=output)\n",
    "#     model.compile(optimizer=tf.keras.optimizers.Adam(learning_rate = 0.0001),\n",
    "#                   loss='categorical_crossentropy',\n",
    "#                   metrics=['accuracy'])\n",
    "\n",
    "#     return model\n"
   ]
  },
  {
   "cell_type": "code",
   "execution_count": 11,
   "id": "a8e53aa9",
   "metadata": {
    "execution": {
     "iopub.execute_input": "2024-01-22T09:09:38.222814Z",
     "iopub.status.busy": "2024-01-22T09:09:38.222130Z",
     "iopub.status.idle": "2024-01-22T09:09:38.226651Z",
     "shell.execute_reply": "2024-01-22T09:09:38.225692Z"
    },
    "id": "k_9LS4aj4YeN",
    "papermill": {
     "duration": 0.194236,
     "end_time": "2024-01-22T09:09:38.228679",
     "exception": false,
     "start_time": "2024-01-22T09:09:38.034443",
     "status": "completed"
    },
    "tags": []
   },
   "outputs": [],
   "source": [
    "# max_trials = 5"
   ]
  },
  {
   "cell_type": "code",
   "execution_count": 12,
   "id": "5cd1ebc7",
   "metadata": {
    "execution": {
     "iopub.execute_input": "2024-01-22T09:09:38.603051Z",
     "iopub.status.busy": "2024-01-22T09:09:38.602339Z",
     "iopub.status.idle": "2024-01-22T09:09:38.606941Z",
     "shell.execute_reply": "2024-01-22T09:09:38.605874Z"
    },
    "id": "dptxe4r54mGg",
    "papermill": {
     "duration": 0.190624,
     "end_time": "2024-01-22T09:09:38.608939",
     "exception": false,
     "start_time": "2024-01-22T09:09:38.418315",
     "status": "completed"
    },
    "tags": []
   },
   "outputs": [],
   "source": [
    "# tuner = kt.Hyperband(build_model,\n",
    "#                      objective='val_accuracy',\n",
    "#                      max_epochs=10,  # Adjust the number of epochs as needed\n",
    "#                      factor=3,\n",
    "#                      directory='my_dir',\n",
    "#                      project_name='densenet169_tuning'\n",
    "#                      )\n",
    "# # tuner.search_space.max_trials = max_trials\n"
   ]
  },
  {
   "cell_type": "code",
   "execution_count": 13,
   "id": "86e1e6d9",
   "metadata": {
    "execution": {
     "iopub.execute_input": "2024-01-22T09:09:38.985268Z",
     "iopub.status.busy": "2024-01-22T09:09:38.984593Z",
     "iopub.status.idle": "2024-01-22T09:09:38.989146Z",
     "shell.execute_reply": "2024-01-22T09:09:38.988225Z"
    },
    "id": "d50-bprH9t46",
    "papermill": {
     "duration": 0.195246,
     "end_time": "2024-01-22T09:09:38.991390",
     "exception": false,
     "start_time": "2024-01-22T09:09:38.796144",
     "status": "completed"
    },
    "tags": []
   },
   "outputs": [],
   "source": [
    "# start_time = time.time()\n",
    "# # stop_early = tf.keras.callbacks.EarlyStopping(monitor='val_loss', patience=5)\n",
    "# x_train, y_train = train_dataD.next()\n",
    "# x_val, y_val = valid_dataD.next()\n",
    "\n",
    "# tuner.search(x_train, y_train, epochs=10, validation_data=(x_val, y_val),batch_size = 1)\n",
    "# best_hps = tuner.get_best_hyperparameters(num_trials=1)[0]\n",
    "# best_model = tuner.hypermodel.build(best_hps)\n",
    "# end_time = time.time()\n",
    "# total = end_time-start_time\n",
    "# print('waktu : ',total)"
   ]
  },
  {
   "cell_type": "code",
   "execution_count": 14,
   "id": "7616ed62",
   "metadata": {
    "execution": {
     "iopub.execute_input": "2024-01-22T09:09:39.362543Z",
     "iopub.status.busy": "2024-01-22T09:09:39.361838Z",
     "iopub.status.idle": "2024-01-22T09:09:39.366378Z",
     "shell.execute_reply": "2024-01-22T09:09:39.365413Z"
    },
    "id": "B5_jO3FB-VbE",
    "papermill": {
     "duration": 0.193235,
     "end_time": "2024-01-22T09:09:39.368551",
     "exception": false,
     "start_time": "2024-01-22T09:09:39.175316",
     "status": "completed"
    },
    "tags": []
   },
   "outputs": [],
   "source": [
    "# start_time = time.time()\n",
    "# best_model.fit(train_dataD, epochs=50,validation_data=valid_dataD, verbose = 1)\n",
    "# end_time = time.time()\n",
    "# total = end_time-start_time\n",
    "# print('waktu : ',total)"
   ]
  },
  {
   "cell_type": "code",
   "execution_count": 15,
   "id": "ea151ffb",
   "metadata": {
    "execution": {
     "iopub.execute_input": "2024-01-22T09:09:39.743409Z",
     "iopub.status.busy": "2024-01-22T09:09:39.743034Z",
     "iopub.status.idle": "2024-01-22T09:09:45.586171Z",
     "shell.execute_reply": "2024-01-22T09:09:45.585284Z"
    },
    "id": "ZxYzfk_eBJA9",
    "papermill": {
     "duration": 6.031462,
     "end_time": "2024-01-22T09:09:45.588567",
     "exception": false,
     "start_time": "2024-01-22T09:09:39.557105",
     "status": "completed"
    },
    "tags": []
   },
   "outputs": [],
   "source": [
    "from tensorflow.keras.models import load_model\n",
    "\n",
    "model_result = load_model('/content/drive/MyDrive/model_checkpoint.h5')"
   ]
  },
  {
   "cell_type": "code",
   "execution_count": 16,
   "id": "c741d1dd",
   "metadata": {
    "execution": {
     "iopub.execute_input": "2024-01-22T09:09:45.954893Z",
     "iopub.status.busy": "2024-01-22T09:09:45.954491Z",
     "iopub.status.idle": "2024-01-22T09:10:29.611377Z",
     "shell.execute_reply": "2024-01-22T09:10:29.610179Z"
    },
    "id": "p0bH0uF_zIjg",
    "outputId": "3a386cd6-8cde-404c-fe10-1e548e54990c",
    "papermill": {
     "duration": 43.841681,
     "end_time": "2024-01-22T09:10:29.613619",
     "exception": false,
     "start_time": "2024-01-22T09:09:45.771938",
     "status": "completed"
    },
    "tags": []
   },
   "outputs": [
    {
     "name": "stdout",
     "output_type": "stream",
     "text": [
      "17/17 [==============================] - 23s 1s/step - loss: 0.0114 - accuracy: 1.0000\n",
      "\n",
      "Train accuracy:  1.0\n",
      "4/4 [==============================] - 5s 950ms/step - loss: 0.1364 - accuracy: 0.9630\n",
      "\n",
      "Valid accuracy:  0.9629629850387573\n",
      "4/4 [==============================] - 11s 3s/step - loss: 0.1325 - accuracy: 0.9831\n",
      "\n",
      "Test accuracy:  0.9830508232116699\n"
     ]
    }
   ],
   "source": [
    "train_loss, train_acc = model_result.evaluate(train_dataD, verbose=1)\n",
    "print('\\nTrain accuracy: ', train_acc)\n",
    "vall_loss, valid_acc = model_result.evaluate(valid_dataD, verbose=1)\n",
    "print('\\nValid accuracy: ', valid_acc)\n",
    "test_loss, test_acc = model_result.evaluate(test_dataD, verbose=1)\n",
    "print('\\nTest accuracy: ', test_acc)"
   ]
  },
  {
   "cell_type": "code",
   "execution_count": 17,
   "id": "5b97c301",
   "metadata": {
    "execution": {
     "iopub.execute_input": "2024-01-22T09:10:30.092365Z",
     "iopub.status.busy": "2024-01-22T09:10:30.091434Z",
     "iopub.status.idle": "2024-01-22T09:10:39.088200Z",
     "shell.execute_reply": "2024-01-22T09:10:39.086879Z"
    },
    "id": "nxgJuBrsEJh9",
    "outputId": "4b9ada25-619a-4511-88e0-b0dbd57b7d88",
    "papermill": {
     "duration": 9.211353,
     "end_time": "2024-01-22T09:10:39.090468",
     "exception": false,
     "start_time": "2024-01-22T09:10:29.879115",
     "status": "completed"
    },
    "tags": []
   },
   "outputs": [
    {
     "name": "stdout",
     "output_type": "stream",
     "text": [
      "4/4 [==============================] - 7s 992ms/step\n",
      "              precision    recall  f1-score   support\n",
      "\n",
      "         CLL       1.00      0.94      0.97        18\n",
      "          FL       1.00      1.00      1.00        22\n",
      "         MCL       0.95      1.00      0.97        19\n",
      "\n",
      "    accuracy                           0.98        59\n",
      "   macro avg       0.98      0.98      0.98        59\n",
      "weighted avg       0.98      0.98      0.98        59\n",
      "\n"
     ]
    }
   ],
   "source": [
    "y_pred = model_result.predict(test_dataD)\n",
    "y_true = test_dataD.classes\n",
    "y_pred = np.argmax(y_pred, axis=1)\n",
    "\n",
    "classification_rep = classification_report(y_true, y_pred, target_names=test_dataD.class_indices)\n",
    "print(classification_rep)"
   ]
  },
  {
   "cell_type": "code",
   "execution_count": 18,
   "id": "fffd6a6c",
   "metadata": {
    "execution": {
     "iopub.execute_input": "2024-01-22T09:10:39.460913Z",
     "iopub.status.busy": "2024-01-22T09:10:39.460499Z",
     "iopub.status.idle": "2024-01-22T09:10:39.511822Z",
     "shell.execute_reply": "2024-01-22T09:10:39.510789Z"
    },
    "papermill": {
     "duration": 0.240247,
     "end_time": "2024-01-22T09:10:39.514206",
     "exception": false,
     "start_time": "2024-01-22T09:10:39.273959",
     "status": "completed"
    },
    "tags": []
   },
   "outputs": [
    {
     "name": "stdout",
     "output_type": "stream",
     "text": [
      "+----------------------+-------+\n",
      "|        Metric        | Value |\n",
      "+----------------------+-------+\n",
      "| True Positives (TP)  |   22  |\n",
      "| True Negatives (TN)  |   17  |\n",
      "| False Positives (FP) |   0   |\n",
      "| False Negatives (FN) |   0   |\n",
      "+----------------------+-------+\n"
     ]
    }
   ],
   "source": [
    "from prettytable import PrettyTable\n",
    "\n",
    "# Assuming conf_matrix is the confusion matrix calculated earlier\n",
    "conf_matrix = confusion_matrix(y_true, y_pred)\n",
    "\n",
    "# Extract TP, TN, FP, FN from the confusion matrix\n",
    "TP = conf_matrix[1, 1]  # True Positives\n",
    "TN = conf_matrix[0, 0]  # True Negatives\n",
    "FP = conf_matrix[0, 1]  # False Positives\n",
    "FN = conf_matrix[1, 0]  # False Negatives\n",
    "\n",
    "# Create a table to display TP, TN, FP, FN\n",
    "table = PrettyTable()\n",
    "table.field_names = [\"Metric\", \"Value\"]\n",
    "table.add_row([\"True Positives (TP)\", TP])\n",
    "table.add_row([\"True Negatives (TN)\", TN])\n",
    "table.add_row([\"False Positives (FP)\", FP])\n",
    "table.add_row([\"False Negatives (FN)\", FN])\n",
    "\n",
    "print(table)\n"
   ]
  },
  {
   "cell_type": "code",
   "execution_count": 19,
   "id": "bc980d73",
   "metadata": {
    "execution": {
     "iopub.execute_input": "2024-01-22T09:10:39.891673Z",
     "iopub.status.busy": "2024-01-22T09:10:39.890886Z",
     "iopub.status.idle": "2024-01-22T09:10:40.347911Z",
     "shell.execute_reply": "2024-01-22T09:10:40.346912Z"
    },
    "papermill": {
     "duration": 0.649001,
     "end_time": "2024-01-22T09:10:40.350229",
     "exception": false,
     "start_time": "2024-01-22T09:10:39.701228",
     "status": "completed"
    },
    "tags": []
   },
   "outputs": [
    {
     "data": {
      "image/png": "[encoded data removed]",
      "text/plain": [
       "<Figure size 640x480 with 1 Axes>"
      ]
     },
     "metadata": {},
     "output_type": "display_data"
    }
   ],
   "source": [
    "# Menampilkan grafik loss\n",
    "loss = history.history['loss']\n",
    "val_loss = history.history['val_loss']\n",
    "epochs = range(1, len(loss)+1)\n",
    "plt.plot(epochs, loss, 'b', label='Training loss')\n",
    "plt.plot(epochs, val_loss, 'r', label='Validation loss')\n",
    "plt.title('Training and Validation Loss')\n",
    "plt.xlabel('Epochs')\n",
    "plt.ylabel('Loss')\n",
    "plt.legend()\n",
    "plt.savefig(os.path.join(folder_path, 'loss.png'))\n",
    "plt.show()"
   ]
  },
  {
   "cell_type": "code",
   "execution_count": 20,
   "id": "df06b843",
   "metadata": {
    "execution": {
     "iopub.execute_input": "2024-01-22T09:10:40.733535Z",
     "iopub.status.busy": "2024-01-22T09:10:40.733125Z",
     "iopub.status.idle": "2024-01-22T09:10:41.197418Z",
     "shell.execute_reply": "2024-01-22T09:10:41.196255Z"
    },
    "papermill": {
     "duration": 0.65821,
     "end_time": "2024-01-22T09:10:41.199919",
     "exception": false,
     "start_time": "2024-01-22T09:10:40.541709",
     "status": "completed"
    },
    "tags": []
   },
   "outputs": [
    {
     "data": {
      "image/png": "[encoded data removed]",
      "text/plain": [
       "<Figure size 640x480 with 1 Axes>"
      ]
     },
     "metadata": {},
     "output_type": "display_data"
    }
   ],
   "source": [
    "# Menampilkan grafik akurasi\n",
    "acc = history.history['accuracy']\n",
    "val_acc = history.history['val_accuracy']\n",
    "plt.plot(epochs, acc, 'b', label='Training acc')\n",
    "plt.plot(epochs, val_acc, 'r', label='Validation acc')\n",
    "plt.title('Training and Validation Accuracy')\n",
    "plt.xlabel('Epochs')\n",
    "plt.ylabel('Accuracy')\n",
    "plt.legend()\n",
    "plt.savefig(os.path.join(folder_path, 'accuracy.png'))\n",
    "plt.show()"
   ]
  },
  {
   "cell_type": "code",
   "execution_count": 21,
   "id": "2700deca",
   "metadata": {
    "execution": {
     "iopub.execute_input": "2024-01-22T09:10:41.587532Z",
     "iopub.status.busy": "2024-01-22T09:10:41.587123Z",
     "iopub.status.idle": "2024-01-22T09:10:42.091376Z",
     "shell.execute_reply": "2024-01-22T09:10:42.090367Z"
    },
    "papermill": {
     "duration": 0.706921,
     "end_time": "2024-01-22T09:10:42.093548",
     "exception": false,
     "start_time": "2024-01-22T09:10:41.386627",
     "status": "completed"
    },
    "tags": []
   },
   "outputs": [
    {
     "data": {
      "image/png": "[encoded data removed]",
      "text/plain": [
       "<Figure size 800x600 with 2 Axes>"
      ]
     },
     "metadata": {},
     "output_type": "display_data"
    }
   ],
   "source": [
    "# Generate the confusion matrix\n",
    "conf_matrix = confusion_matrix(y_true, y_pred)\n",
    "\n",
    "# Plot the confusion matrix using seaborn\n",
    "plt.figure(figsize=(8, 6))\n",
    "sns.heatmap(conf_matrix, annot=True, fmt='d', cmap='Blues', xticklabels=test_dataD.class_indices.keys(), yticklabels=test_dataD.class_indices.keys())\n",
    "plt.title('Confusion Matrix')\n",
    "plt.xlabel('Predicted')\n",
    "plt.ylabel('True')\n",
    "plt.savefig(os.path.join(folder_path, 'confusion_matrix.png'))\n",
    "plt.show()"
   ]
  }
 ],
 "metadata": {
  "accelerator": "GPU",
  "colab": {
   "gpuType": "T4",
   "provenance": []
  },
  "kaggle": {
   "accelerator": "gpu",
   "dataSources": [
    {
     "datasetId": 4004740,
     "sourceId": 6970252,
     "sourceType": "datasetVersion"
    }
   ],
   "dockerImageVersionId": 30627,
   "isGpuEnabled": true,
   "isInternetEnabled": true,
   "language": "python",
   "sourceType": "notebook"
  },
  "kernelspec": {
   "display_name": "Python 3",
   "language": "python",
   "name": "python3"
  },
  "language_info": {
   "codemirror_mode": {
    "name": "ipython",
    "version": 3
   },
   "file_extension": ".py",
   "mimetype": "text/x-python",
   "name": "python",
   "nbconvert_exporter": "python",
   "pygments_lexer": "ipython3",
   "version": "3.10.12"
  },
  "papermill": {
   "default_parameters": {},
   "duration": 2722.247536,
   "end_time": "2024-01-22T09:10:45.336251",
   "environment_variables": {},
   "exception": null,
   "input_path": "__notebook__.ipynb",
   "output_path": "__notebook__.ipynb",
   "parameters": {},
   "start_time": "2024-01-22T08:25:23.088715",
   "version": "2.4.0"
  }
 },
 "nbformat": 4,
 "nbformat_minor": 5
}
